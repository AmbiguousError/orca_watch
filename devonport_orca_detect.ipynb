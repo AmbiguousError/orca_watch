{
  "cells": [
    {
      "cell_type": "markdown",
      "metadata": {
        "id": "view-in-github",
        "colab_type": "text"
      },
      "source": [
        "<a href=\"https://colab.research.google.com/github/AmbiguousError/orca_watch/blob/main/devonport_orca_detect.ipynb\" target=\"_parent\"><img src=\"https://colab.research.google.com/assets/colab-badge.svg\" alt=\"Open In Colab\"/></a>"
      ]
    },
    {
      "cell_type": "markdown",
      "source": [
        "Install libraries required"
      ],
      "metadata": {
        "id": "-qm6nsTJhqM8"
      }
    },
    {
      "cell_type": "code",
      "source": [
        "!pip install yt-dlp ultralytics opencv-python matplotlib\n",
        "\n"
      ],
      "metadata": {
        "colab": {
          "base_uri": "https://localhost:8080/"
        },
        "id": "fBBkix8xWx3d",
        "outputId": "d5a33eb6-5594-456c-f771-409d130f6178"
      },
      "execution_count": 2,
      "outputs": [
        {
          "output_type": "stream",
          "name": "stdout",
          "text": [
            "Collecting yt-dlp\n",
            "  Downloading yt_dlp-2024.7.9-py3-none-any.whl (3.1 MB)\n",
            "\u001b[2K     \u001b[90m━━━━━━━━━━━━━━━━━━━━━━━━━━━━━━━━━━━━━━━━\u001b[0m \u001b[32m3.1/3.1 MB\u001b[0m \u001b[31m16.0 MB/s\u001b[0m eta \u001b[36m0:00:00\u001b[0m\n",
            "\u001b[?25hCollecting ultralytics\n",
            "  Downloading ultralytics-8.2.52-py3-none-any.whl (800 kB)\n",
            "\u001b[2K     \u001b[90m━━━━━━━━━━━━━━━━━━━━━━━━━━━━━━━━━━━━━━━━\u001b[0m \u001b[32m800.0/800.0 kB\u001b[0m \u001b[31m19.5 MB/s\u001b[0m eta \u001b[36m0:00:00\u001b[0m\n",
            "\u001b[?25hRequirement already satisfied: opencv-python in /usr/local/lib/python3.10/dist-packages (4.8.0.76)\n",
            "Requirement already satisfied: matplotlib in /usr/local/lib/python3.10/dist-packages (3.7.1)\n",
            "Collecting brotli (from yt-dlp)\n",
            "  Downloading Brotli-1.1.0-cp310-cp310-manylinux_2_5_x86_64.manylinux1_x86_64.manylinux_2_12_x86_64.manylinux2010_x86_64.whl (3.0 MB)\n",
            "\u001b[2K     \u001b[90m━━━━━━━━━━━━━━━━━━━━━━━━━━━━━━━━━━━━━━━━\u001b[0m \u001b[32m3.0/3.0 MB\u001b[0m \u001b[31m30.2 MB/s\u001b[0m eta \u001b[36m0:00:00\u001b[0m\n",
            "\u001b[?25hRequirement already satisfied: certifi in /usr/local/lib/python3.10/dist-packages (from yt-dlp) (2024.6.2)\n",
            "Collecting mutagen (from yt-dlp)\n",
            "  Downloading mutagen-1.47.0-py3-none-any.whl (194 kB)\n",
            "\u001b[2K     \u001b[90m━━━━━━━━━━━━━━━━━━━━━━━━━━━━━━━━━━━━━━━━\u001b[0m \u001b[32m194.4/194.4 kB\u001b[0m \u001b[31m11.6 MB/s\u001b[0m eta \u001b[36m0:00:00\u001b[0m\n",
            "\u001b[?25hCollecting pycryptodomex (from yt-dlp)\n",
            "  Downloading pycryptodomex-3.20.0-cp35-abi3-manylinux_2_17_x86_64.manylinux2014_x86_64.whl (2.1 MB)\n",
            "\u001b[2K     \u001b[90m━━━━━━━━━━━━━━━━━━━━━━━━━━━━━━━━━━━━━━━━\u001b[0m \u001b[32m2.1/2.1 MB\u001b[0m \u001b[31m27.1 MB/s\u001b[0m eta \u001b[36m0:00:00\u001b[0m\n",
            "\u001b[?25hCollecting requests<3,>=2.32.2 (from yt-dlp)\n",
            "  Downloading requests-2.32.3-py3-none-any.whl (64 kB)\n",
            "\u001b[2K     \u001b[90m━━━━━━━━━━━━━━━━━━━━━━━━━━━━━━━━━━━━━━━━\u001b[0m \u001b[32m64.9/64.9 kB\u001b[0m \u001b[31m4.7 MB/s\u001b[0m eta \u001b[36m0:00:00\u001b[0m\n",
            "\u001b[?25hRequirement already satisfied: urllib3<3,>=1.26.17 in /usr/local/lib/python3.10/dist-packages (from yt-dlp) (2.0.7)\n",
            "Collecting websockets>=12.0 (from yt-dlp)\n",
            "  Downloading websockets-12.0-cp310-cp310-manylinux_2_5_x86_64.manylinux1_x86_64.manylinux_2_17_x86_64.manylinux2014_x86_64.whl (130 kB)\n",
            "\u001b[2K     \u001b[90m━━━━━━━━━━━━━━━━━━━━━━━━━━━━━━━━━━━━━━━━\u001b[0m \u001b[32m130.2/130.2 kB\u001b[0m \u001b[31m7.2 MB/s\u001b[0m eta \u001b[36m0:00:00\u001b[0m\n",
            "\u001b[?25hRequirement already satisfied: numpy<2.0.0,>=1.23.0 in /usr/local/lib/python3.10/dist-packages (from ultralytics) (1.25.2)\n",
            "Requirement already satisfied: pillow>=7.1.2 in /usr/local/lib/python3.10/dist-packages (from ultralytics) (9.4.0)\n",
            "Requirement already satisfied: pyyaml>=5.3.1 in /usr/local/lib/python3.10/dist-packages (from ultralytics) (6.0.1)\n",
            "Requirement already satisfied: scipy>=1.4.1 in /usr/local/lib/python3.10/dist-packages (from ultralytics) (1.11.4)\n",
            "Requirement already satisfied: torch>=1.8.0 in /usr/local/lib/python3.10/dist-packages (from ultralytics) (2.3.0+cu121)\n",
            "Requirement already satisfied: torchvision>=0.9.0 in /usr/local/lib/python3.10/dist-packages (from ultralytics) (0.18.0+cu121)\n",
            "Requirement already satisfied: tqdm>=4.64.0 in /usr/local/lib/python3.10/dist-packages (from ultralytics) (4.66.4)\n",
            "Requirement already satisfied: psutil in /usr/local/lib/python3.10/dist-packages (from ultralytics) (5.9.5)\n",
            "Requirement already satisfied: py-cpuinfo in /usr/local/lib/python3.10/dist-packages (from ultralytics) (9.0.0)\n",
            "Requirement already satisfied: pandas>=1.1.4 in /usr/local/lib/python3.10/dist-packages (from ultralytics) (2.0.3)\n",
            "Requirement already satisfied: seaborn>=0.11.0 in /usr/local/lib/python3.10/dist-packages (from ultralytics) (0.13.1)\n",
            "Collecting ultralytics-thop>=2.0.0 (from ultralytics)\n",
            "  Downloading ultralytics_thop-2.0.0-py3-none-any.whl (25 kB)\n",
            "Requirement already satisfied: contourpy>=1.0.1 in /usr/local/lib/python3.10/dist-packages (from matplotlib) (1.2.1)\n",
            "Requirement already satisfied: cycler>=0.10 in /usr/local/lib/python3.10/dist-packages (from matplotlib) (0.12.1)\n",
            "Requirement already satisfied: fonttools>=4.22.0 in /usr/local/lib/python3.10/dist-packages (from matplotlib) (4.53.0)\n",
            "Requirement already satisfied: kiwisolver>=1.0.1 in /usr/local/lib/python3.10/dist-packages (from matplotlib) (1.4.5)\n",
            "Requirement already satisfied: packaging>=20.0 in /usr/local/lib/python3.10/dist-packages (from matplotlib) (24.1)\n",
            "Requirement already satisfied: pyparsing>=2.3.1 in /usr/local/lib/python3.10/dist-packages (from matplotlib) (3.1.2)\n",
            "Requirement already satisfied: python-dateutil>=2.7 in /usr/local/lib/python3.10/dist-packages (from matplotlib) (2.8.2)\n",
            "Requirement already satisfied: pytz>=2020.1 in /usr/local/lib/python3.10/dist-packages (from pandas>=1.1.4->ultralytics) (2023.4)\n",
            "Requirement already satisfied: tzdata>=2022.1 in /usr/local/lib/python3.10/dist-packages (from pandas>=1.1.4->ultralytics) (2024.1)\n",
            "Requirement already satisfied: six>=1.5 in /usr/local/lib/python3.10/dist-packages (from python-dateutil>=2.7->matplotlib) (1.16.0)\n",
            "Requirement already satisfied: charset-normalizer<4,>=2 in /usr/local/lib/python3.10/dist-packages (from requests<3,>=2.32.2->yt-dlp) (3.3.2)\n",
            "Requirement already satisfied: idna<4,>=2.5 in /usr/local/lib/python3.10/dist-packages (from requests<3,>=2.32.2->yt-dlp) (3.7)\n",
            "Requirement already satisfied: filelock in /usr/local/lib/python3.10/dist-packages (from torch>=1.8.0->ultralytics) (3.15.4)\n",
            "Requirement already satisfied: typing-extensions>=4.8.0 in /usr/local/lib/python3.10/dist-packages (from torch>=1.8.0->ultralytics) (4.12.2)\n",
            "Requirement already satisfied: sympy in /usr/local/lib/python3.10/dist-packages (from torch>=1.8.0->ultralytics) (1.12.1)\n",
            "Requirement already satisfied: networkx in /usr/local/lib/python3.10/dist-packages (from torch>=1.8.0->ultralytics) (3.3)\n",
            "Requirement already satisfied: jinja2 in /usr/local/lib/python3.10/dist-packages (from torch>=1.8.0->ultralytics) (3.1.4)\n",
            "Requirement already satisfied: fsspec in /usr/local/lib/python3.10/dist-packages (from torch>=1.8.0->ultralytics) (2023.6.0)\n",
            "Collecting nvidia-cuda-nvrtc-cu12==12.1.105 (from torch>=1.8.0->ultralytics)\n",
            "  Using cached nvidia_cuda_nvrtc_cu12-12.1.105-py3-none-manylinux1_x86_64.whl (23.7 MB)\n",
            "Collecting nvidia-cuda-runtime-cu12==12.1.105 (from torch>=1.8.0->ultralytics)\n",
            "  Using cached nvidia_cuda_runtime_cu12-12.1.105-py3-none-manylinux1_x86_64.whl (823 kB)\n",
            "Collecting nvidia-cuda-cupti-cu12==12.1.105 (from torch>=1.8.0->ultralytics)\n",
            "  Using cached nvidia_cuda_cupti_cu12-12.1.105-py3-none-manylinux1_x86_64.whl (14.1 MB)\n",
            "Collecting nvidia-cudnn-cu12==8.9.2.26 (from torch>=1.8.0->ultralytics)\n",
            "  Using cached nvidia_cudnn_cu12-8.9.2.26-py3-none-manylinux1_x86_64.whl (731.7 MB)\n",
            "Collecting nvidia-cublas-cu12==12.1.3.1 (from torch>=1.8.0->ultralytics)\n",
            "  Using cached nvidia_cublas_cu12-12.1.3.1-py3-none-manylinux1_x86_64.whl (410.6 MB)\n",
            "Collecting nvidia-cufft-cu12==11.0.2.54 (from torch>=1.8.0->ultralytics)\n",
            "  Using cached nvidia_cufft_cu12-11.0.2.54-py3-none-manylinux1_x86_64.whl (121.6 MB)\n",
            "Collecting nvidia-curand-cu12==10.3.2.106 (from torch>=1.8.0->ultralytics)\n",
            "  Using cached nvidia_curand_cu12-10.3.2.106-py3-none-manylinux1_x86_64.whl (56.5 MB)\n",
            "Collecting nvidia-cusolver-cu12==11.4.5.107 (from torch>=1.8.0->ultralytics)\n",
            "  Using cached nvidia_cusolver_cu12-11.4.5.107-py3-none-manylinux1_x86_64.whl (124.2 MB)\n",
            "Collecting nvidia-cusparse-cu12==12.1.0.106 (from torch>=1.8.0->ultralytics)\n",
            "  Using cached nvidia_cusparse_cu12-12.1.0.106-py3-none-manylinux1_x86_64.whl (196.0 MB)\n",
            "Collecting nvidia-nccl-cu12==2.20.5 (from torch>=1.8.0->ultralytics)\n",
            "  Using cached nvidia_nccl_cu12-2.20.5-py3-none-manylinux2014_x86_64.whl (176.2 MB)\n",
            "Collecting nvidia-nvtx-cu12==12.1.105 (from torch>=1.8.0->ultralytics)\n",
            "  Using cached nvidia_nvtx_cu12-12.1.105-py3-none-manylinux1_x86_64.whl (99 kB)\n",
            "Requirement already satisfied: triton==2.3.0 in /usr/local/lib/python3.10/dist-packages (from torch>=1.8.0->ultralytics) (2.3.0)\n",
            "Collecting nvidia-nvjitlink-cu12 (from nvidia-cusolver-cu12==11.4.5.107->torch>=1.8.0->ultralytics)\n",
            "  Downloading nvidia_nvjitlink_cu12-12.5.82-py3-none-manylinux2014_x86_64.whl (21.3 MB)\n",
            "\u001b[2K     \u001b[90m━━━━━━━━━━━━━━━━━━━━━━━━━━━━━━━━━━━━━━━━\u001b[0m \u001b[32m21.3/21.3 MB\u001b[0m \u001b[31m51.6 MB/s\u001b[0m eta \u001b[36m0:00:00\u001b[0m\n",
            "\u001b[?25hRequirement already satisfied: MarkupSafe>=2.0 in /usr/local/lib/python3.10/dist-packages (from jinja2->torch>=1.8.0->ultralytics) (2.1.5)\n",
            "Requirement already satisfied: mpmath<1.4.0,>=1.1.0 in /usr/local/lib/python3.10/dist-packages (from sympy->torch>=1.8.0->ultralytics) (1.3.0)\n",
            "Installing collected packages: brotli, websockets, requests, pycryptodomex, nvidia-nvtx-cu12, nvidia-nvjitlink-cu12, nvidia-nccl-cu12, nvidia-curand-cu12, nvidia-cufft-cu12, nvidia-cuda-runtime-cu12, nvidia-cuda-nvrtc-cu12, nvidia-cuda-cupti-cu12, nvidia-cublas-cu12, mutagen, yt-dlp, nvidia-cusparse-cu12, nvidia-cudnn-cu12, nvidia-cusolver-cu12, ultralytics-thop, ultralytics\n",
            "  Attempting uninstall: requests\n",
            "    Found existing installation: requests 2.31.0\n",
            "    Uninstalling requests-2.31.0:\n",
            "      Successfully uninstalled requests-2.31.0\n",
            "\u001b[31mERROR: pip's dependency resolver does not currently take into account all the packages that are installed. This behaviour is the source of the following dependency conflicts.\n",
            "google-colab 1.0.0 requires requests==2.31.0, but you have requests 2.32.3 which is incompatible.\u001b[0m\u001b[31m\n",
            "\u001b[0mSuccessfully installed brotli-1.1.0 mutagen-1.47.0 nvidia-cublas-cu12-12.1.3.1 nvidia-cuda-cupti-cu12-12.1.105 nvidia-cuda-nvrtc-cu12-12.1.105 nvidia-cuda-runtime-cu12-12.1.105 nvidia-cudnn-cu12-8.9.2.26 nvidia-cufft-cu12-11.0.2.54 nvidia-curand-cu12-10.3.2.106 nvidia-cusolver-cu12-11.4.5.107 nvidia-cusparse-cu12-12.1.0.106 nvidia-nccl-cu12-2.20.5 nvidia-nvjitlink-cu12-12.5.82 nvidia-nvtx-cu12-12.1.105 pycryptodomex-3.20.0 requests-2.32.3 ultralytics-8.2.52 ultralytics-thop-2.0.0 websockets-12.0 yt-dlp-2024.7.9\n"
          ]
        }
      ]
    },
    {
      "cell_type": "markdown",
      "source": [
        "YOLOv8 Model: Download a pre-trained YOLOv8 object detection model.\n",
        "Deets here: https://github.com/ultralytics/ultralytics\n",
        "\n"
      ],
      "metadata": {
        "id": "QO2hJmoqhxgs"
      }
    },
    {
      "cell_type": "code",
      "source": [
        "! yolo task=detect mode=predict model=yolov8n.pt\n"
      ],
      "metadata": {
        "colab": {
          "base_uri": "https://localhost:8080/"
        },
        "id": "PpiO7M2sW6Ba",
        "outputId": "f9732c7d-73e7-4d21-dbaa-297e6d2bae20"
      },
      "execution_count": 3,
      "outputs": [
        {
          "output_type": "stream",
          "name": "stdout",
          "text": [
            "Downloading https://github.com/ultralytics/assets/releases/download/v8.2.0/yolov8n.pt to 'yolov8n.pt'...\n",
            "100% 6.25M/6.25M [00:00<00:00, 180MB/s]\n",
            "WARNING ⚠️ 'source' argument is missing. Using default 'source=/usr/local/lib/python3.10/dist-packages/ultralytics/assets'.\n",
            "Ultralytics YOLOv8.2.52 🚀 Python-3.10.12 torch-2.3.0+cu121 CPU (Intel Xeon 2.20GHz)\n",
            "YOLOv8n summary (fused): 168 layers, 3151904 parameters, 0 gradients, 8.7 GFLOPs\n",
            "\n",
            "image 1/2 /usr/local/lib/python3.10/dist-packages/ultralytics/assets/bus.jpg: 640x480 4 persons, 1 bus, 1 stop sign, 292.7ms\n",
            "image 2/2 /usr/local/lib/python3.10/dist-packages/ultralytics/assets/zidane.jpg: 384x640 2 persons, 1 tie, 169.6ms\n",
            "Speed: 9.8ms preprocess, 231.2ms inference, 16.6ms postprocess per image at shape (1, 3, 384, 640)\n",
            "Results saved to \u001b[1mruns/detect/predict\u001b[0m\n",
            "💡 Learn more at https://docs.ultralytics.com/modes/predict\n"
          ]
        }
      ]
    },
    {
      "cell_type": "markdown",
      "source": [
        "check feed formats available"
      ],
      "metadata": {
        "id": "3NnPOwtpiK_g"
      }
    },
    {
      "cell_type": "code",
      "source": [
        "!yt-dlp -F https://www.youtube.com/watch?v=6VHnY6ixjLc\n"
      ],
      "metadata": {
        "colab": {
          "base_uri": "https://localhost:8080/"
        },
        "id": "R8kOSLX0csmK",
        "outputId": "f73b7ec4-8d5e-412d-ad0a-374fd5a38ec1"
      },
      "execution_count": 4,
      "outputs": [
        {
          "output_type": "stream",
          "name": "stdout",
          "text": [
            "[youtube] Extracting URL: https://www.youtube.com/watch?v=6VHnY6ixjLc\n",
            "[youtube] 6VHnY6ixjLc: Downloading webpage\n",
            "[youtube] 6VHnY6ixjLc: Downloading ios player API JSON\n",
            "[youtube] 6VHnY6ixjLc: Downloading m3u8 information\n",
            "[youtube] 6VHnY6ixjLc: Downloading m3u8 information\n",
            "[info] Available formats for 6VHnY6ixjLc:\n",
            "\u001b[0;33mID\u001b[0m  \u001b[0;33mEXT\u001b[0m \u001b[0;33mRESOLUTION\u001b[0m \u001b[0;33mFPS\u001b[0m \u001b[0;33m\u001b[0;34m│\u001b[0;33m\u001b[0m \u001b[0;33m  TBR\u001b[0m \u001b[0;33mPROTO\u001b[0m \u001b[0;33m\u001b[0;34m│\u001b[0;33m\u001b[0m \u001b[0;33mVCODEC\u001b[0m      \u001b[0;33m  VBR\u001b[0m \u001b[0;33mACODEC\u001b[0m     \u001b[0;33mMORE INFO\u001b[0m\n",
            "\u001b[0;34m─\u001b[0m\u001b[0;34m─\u001b[0m\u001b[0;34m─\u001b[0m\u001b[0;34m─\u001b[0m\u001b[0;34m─\u001b[0m\u001b[0;34m─\u001b[0m\u001b[0;34m─\u001b[0m\u001b[0;34m─\u001b[0m\u001b[0;34m─\u001b[0m\u001b[0;34m─\u001b[0m\u001b[0;34m─\u001b[0m\u001b[0;34m─\u001b[0m\u001b[0;34m─\u001b[0m\u001b[0;34m─\u001b[0m\u001b[0;34m─\u001b[0m\u001b[0;34m─\u001b[0m\u001b[0;34m─\u001b[0m\u001b[0;34m─\u001b[0m\u001b[0;34m─\u001b[0m\u001b[0;34m─\u001b[0m\u001b[0;34m─\u001b[0m\u001b[0;34m─\u001b[0m\u001b[0;34m─\u001b[0m\u001b[0;34m─\u001b[0m\u001b[0;34m─\u001b[0m\u001b[0;34m─\u001b[0m\u001b[0;34m─\u001b[0m\u001b[0;34m─\u001b[0m\u001b[0;34m─\u001b[0m\u001b[0;34m─\u001b[0m\u001b[0;34m─\u001b[0m\u001b[0;34m─\u001b[0m\u001b[0;34m─\u001b[0m\u001b[0;34m─\u001b[0m\u001b[0;34m─\u001b[0m\u001b[0;34m─\u001b[0m\u001b[0;34m─\u001b[0m\u001b[0;34m─\u001b[0m\u001b[0;34m─\u001b[0m\u001b[0;34m─\u001b[0m\u001b[0;34m─\u001b[0m\u001b[0;34m─\u001b[0m\u001b[0;34m─\u001b[0m\u001b[0;34m─\u001b[0m\u001b[0;34m─\u001b[0m\u001b[0;34m─\u001b[0m\u001b[0;34m─\u001b[0m\u001b[0;34m─\u001b[0m\u001b[0;34m─\u001b[0m\u001b[0;34m─\u001b[0m\u001b[0;34m─\u001b[0m\u001b[0;34m─\u001b[0m\u001b[0;34m─\u001b[0m\u001b[0;34m─\u001b[0m\u001b[0;34m─\u001b[0m\u001b[0;34m─\u001b[0m\u001b[0;34m─\u001b[0m\u001b[0;34m─\u001b[0m\u001b[0;34m─\u001b[0m\u001b[0;34m─\u001b[0m\u001b[0;34m─\u001b[0m\u001b[0;34m─\u001b[0m\u001b[0;34m─\u001b[0m\u001b[0;34m─\u001b[0m\u001b[0;34m─\u001b[0m\u001b[0;34m─\u001b[0m\u001b[0;34m─\u001b[0m\u001b[0;34m─\u001b[0m\u001b[0;34m─\u001b[0m\u001b[0;34m─\u001b[0m\u001b[0;34m─\u001b[0m\u001b[0;34m─\u001b[0m\u001b[0;34m─\u001b[0m\u001b[0;34m─\u001b[0m\u001b[0;34m─\u001b[0m\u001b[0;34m─\u001b[0m\u001b[0;34m─\u001b[0m\n",
            "\u001b[0;32m233\u001b[0m mp4 audio only     \u001b[0;34m│\u001b[0m       m3u8  \u001b[0;34m│\u001b[0m \u001b[0;90maudio only\u001b[0m        unknown    Default\n",
            "\u001b[0;32m234\u001b[0m mp4 audio only     \u001b[0;34m│\u001b[0m       m3u8  \u001b[0;34m│\u001b[0m \u001b[0;90maudio only\u001b[0m        unknown    Default\n",
            "\u001b[0;32m269\u001b[0m mp4 256x144     15 \u001b[0;34m│\u001b[0m  290k m3u8  \u001b[0;34m│\u001b[0m avc1.42C00B  290k \u001b[0;90mvideo only\u001b[0m\n",
            "\u001b[0;32m91\u001b[0m  mp4 256x144     15 \u001b[0;34m│\u001b[0m  290k m3u8  \u001b[0;34m│\u001b[0m avc1.42c00b       mp4a.40.5\n",
            "\u001b[0;32m229\u001b[0m mp4 426x240     30 \u001b[0;34m│\u001b[0m  546k m3u8  \u001b[0;34m│\u001b[0m avc1.4D4015  546k \u001b[0;90mvideo only\u001b[0m\n",
            "\u001b[0;32m92\u001b[0m  mp4 426x240     30 \u001b[0;34m│\u001b[0m  546k m3u8  \u001b[0;34m│\u001b[0m avc1.4d4015       mp4a.40.5\n",
            "\u001b[0;32m230\u001b[0m mp4 640x360     30 \u001b[0;34m│\u001b[0m 1210k m3u8  \u001b[0;34m│\u001b[0m avc1.4D401E 1210k \u001b[0;90mvideo only\u001b[0m\n",
            "\u001b[0;32m93\u001b[0m  mp4 640x360     30 \u001b[0;34m│\u001b[0m 1210k m3u8  \u001b[0;34m│\u001b[0m avc1.4d401e       mp4a.40.2\n",
            "\u001b[0;32m231\u001b[0m mp4 854x480     30 \u001b[0;34m│\u001b[0m 1569k m3u8  \u001b[0;34m│\u001b[0m avc1.4D401F 1569k \u001b[0;90mvideo only\u001b[0m\n",
            "\u001b[0;32m94\u001b[0m  mp4 854x480     30 \u001b[0;34m│\u001b[0m 1569k m3u8  \u001b[0;34m│\u001b[0m avc1.4d401f       mp4a.40.2\n",
            "\u001b[0;32m232\u001b[0m mp4 1280x720    30 \u001b[0;34m│\u001b[0m 2969k m3u8  \u001b[0;34m│\u001b[0m avc1.4D401F 2969k \u001b[0;90mvideo only\u001b[0m\n",
            "\u001b[0;32m95\u001b[0m  mp4 1280x720    30 \u001b[0;34m│\u001b[0m 2969k m3u8  \u001b[0;34m│\u001b[0m avc1.4d401f       mp4a.40.2\n",
            "\u001b[0;32m270\u001b[0m mp4 1920x1080   30 \u001b[0;34m│\u001b[0m 5421k m3u8  \u001b[0;34m│\u001b[0m avc1.640028 5421k \u001b[0;90mvideo only\u001b[0m\n",
            "\u001b[0;32m96\u001b[0m  mp4 1920x1080   30 \u001b[0;34m│\u001b[0m 5421k m3u8  \u001b[0;34m│\u001b[0m avc1.640028       mp4a.40.2\n"
          ]
        }
      ]
    },
    {
      "cell_type": "markdown",
      "source": [
        "run script, will apparently show pics of orca in cell when viewed ... should setup test"
      ],
      "metadata": {
        "id": "UK2WeRmIiQVd"
      }
    },
    {
      "cell_type": "code",
      "source": [
        "import cv2\n",
        "import yt_dlp\n",
        "import subprocess\n",
        "import os\n",
        "from ultralytics import YOLO\n",
        "import matplotlib.pyplot as plt\n",
        "\n",
        "def detect_orcas(video_filename, model_path=\"yolov8n.pt\"):\n",
        "    \"\"\"Detects orcas in a video file.\"\"\"\n",
        "    model = YOLO(model_path)\n",
        "    cap = cv2.VideoCapture(video_filename)\n",
        "    while cap.isOpened():\n",
        "        success, frame = cap.read()\n",
        "        if success:\n",
        "            results = model(frame)\n",
        "            for result in results:\n",
        "                for box in result.boxes:\n",
        "                    if result.names[box.cls[0]] == \"orca\":\n",
        "                        x1, y1, x2, y2 = map(int, box.xyxy[0])\n",
        "                        cv2.rectangle(frame, (x1, y1), (x2, y2), (0, 255, 0), 2)\n",
        "                        label = f\"{result.names[box.cls[0]]} {box.conf[0]:.2f}\"\n",
        "                        cv2.putText(frame, label, (x1, y1 - 10), cv2.FONT_HERSHEY_SIMPLEX, 0.9, (0, 255, 0), 2)\n",
        "\n",
        "            # Display the frame using Matplotlib\n",
        "            plt.imshow(cv2.cvtColor(frame, cv2.COLOR_BGR2RGB))  # Convert to RGB for Matplotlib\n",
        "            plt.title(\"Orca Detection\")\n",
        "            plt.show()\n",
        "\n",
        "            if cv2.waitKey(1) & 0xFF == ord('q'):\n",
        "                break\n",
        "        else:\n",
        "            break\n",
        "    cap.release()\n",
        "    cv2.destroyAllWindows()\n",
        "\n",
        "def process_live_stream(live_stream_url, model_path=\"yolov8n.pt\"):\n",
        "    \"\"\"Processes a live stream in chunks.\"\"\"\n",
        "    temp_filename = \"temp.ts\"  # Change to .ts for MPEG-TS\n",
        "    ydl_opts = {\n",
        "        'format': 'bestvideo[ext=mp4]+bestaudio[ext=m4a]/best[ext=mp4]/best',\n",
        "        'verbose': True,\n",
        "        'noplaylist': True,\n",
        "        'merge_output_format': 'mp4'  # Merge audio and video into mp4 after download\n",
        "    }\n",
        "\n",
        "    with yt_dlp.YoutubeDL(ydl_opts) as ydl:\n",
        "        info = ydl.extract_info(live_stream_url)\n",
        "        video_filename = ydl.prepare_filename(info)\n",
        "\n",
        "        while True:\n",
        "            # Record a segment of the stream\n",
        "            ffmpeg_cmd = f\"ffmpeg -protocol_whitelist file,http,https,tcp,tls,crypto -i {video_filename} -c copy -bsf:a aac_adtstoasc -t 30 {temp_filename}\"\n",
        "            print(f\"Recording segment: {ffmpeg_cmd}\")\n",
        "\n",
        "            try:\n",
        "                subprocess.run(ffmpeg_cmd, shell=True, check=True)\n",
        "            except subprocess.CalledProcessError as e:\n",
        "                print(f\"FFmpeg error: {e.stderr}\")  # Print FFmpeg error\n",
        "                break\n",
        "\n",
        "            if os.path.exists(temp_filename):\n",
        "                print(f\"Processing segment: {temp_filename}\")\n",
        "                detect_orcas(temp_filename, model_path)\n",
        "                os.remove(temp_filename)  # Remove the temporary file\n",
        "            else:\n",
        "                print(\"Error: Temporary file not created.\")\n",
        "\n",
        "\n",
        "if __name__ == \"__main__\":\n",
        "    youtube_url = \"https://www.youtube.com/watch?v=6VHnY6ixjLc\"  # Replace with the actual live stream URL\n",
        "    process_live_stream(youtube_url)\n"
      ],
      "metadata": {
        "colab": {
          "base_uri": "https://localhost:8080/"
        },
        "id": "9oGKO9XVfrtF",
        "outputId": "c5b8a27b-b7f4-4d33-81b4-896f8dd94130"
      },
      "execution_count": null,
      "outputs": [
        {
          "output_type": "stream",
          "name": "stderr",
          "text": [
            "[debug] Encodings: locale UTF-8, fs utf-8, pref UTF-8, out UTF-8 (No ANSI), error UTF-8 (No ANSI), screen UTF-8 (No ANSI)\n",
            "[debug] yt-dlp version stable@2024.07.09 from yt-dlp/yt-dlp [7ead7332a] (pip) API\n",
            "[debug] params: {'format': 'bestvideo[ext=mp4]+bestaudio[ext=m4a]/best[ext=mp4]/best', 'verbose': True, 'noplaylist': True, 'merge_output_format': 'mp4', 'compat_opts': set(), 'http_headers': {'User-Agent': 'Mozilla/5.0 (Windows NT 10.0; Win64; x64) AppleWebKit/537.36 (KHTML, like Gecko) Chrome/90.0.4430.24 Safari/537.36', 'Accept': 'text/html,application/xhtml+xml,application/xml;q=0.9,*/*;q=0.8', 'Accept-Language': 'en-us,en;q=0.5', 'Sec-Fetch-Mode': 'navigate'}}\n",
            "[debug] Python 3.10.12 (CPython x86_64 64bit) - Linux-6.1.85+-x86_64-with-glibc2.35 (OpenSSL 3.0.2 15 Mar 2022, glibc 2.35)\n",
            "[debug] exe versions: ffmpeg 4.4.2 (setts), ffprobe 4.4.2\n",
            "[debug] Optional libraries: Cryptodome-3.20.0, brotli-1.1.0, certifi-2024.06.02, mutagen-1.47.0, requests-2.32.3, secretstorage-3.3.1, sqlite3-3.37.2, urllib3-2.0.7, websockets-12.0\n",
            "[debug] Proxy map: {'colab_language_server': '/usr/colab/bin/language_service'}\n",
            "[debug] Request Handlers: urllib, requests, websockets\n",
            "[debug] Loaded 1834 extractors\n"
          ]
        },
        {
          "output_type": "stream",
          "name": "stdout",
          "text": [
            "[youtube] Extracting URL: https://www.youtube.com/watch?v=6VHnY6ixjLc\n",
            "[youtube] 6VHnY6ixjLc: Downloading webpage\n",
            "[youtube] 6VHnY6ixjLc: Downloading ios player API JSON\n",
            "[youtube] 6VHnY6ixjLc: Downloading m3u8 information\n",
            "[youtube] 6VHnY6ixjLc: Downloading m3u8 information\n"
          ]
        },
        {
          "output_type": "stream",
          "name": "stderr",
          "text": [
            "[debug] Sort order given by extractor: quality, res, fps, hdr:12, source, vcodec:vp9.2, channels, acodec, lang, proto\n",
            "[debug] Formats sorted by: hasvid, ie_pref, quality, res, fps, hdr:12(7), source, vcodec:vp9.2(10), channels, acodec, lang, proto, size, br, asr, vext, aext, hasaud, id\n"
          ]
        },
        {
          "output_type": "stream",
          "name": "stdout",
          "text": [
            "[info] 6VHnY6ixjLc: Downloading 1 format(s): 96\n"
          ]
        },
        {
          "output_type": "stream",
          "name": "stderr",
          "text": [
            "[debug] Invoking ffmpeg downloader on \"https://manifest.googlevideo.com/api/manifest/hls_playlist/expire/1720601232/ei/MPaNZvbcHIuDi9oP9pKk0AI/ip/34.34.25.49/id/6VHnY6ixjLc.1/itag/96/source/yt_live_broadcast/requiressl/yes/ratebypass/yes/live/1/sgoap/gir%3Dyes%3Bitag%3D140/sgovp/gir%3Dyes%3Bitag%3D137/rqh/1/hdlc/1/hls_chunk_host/rr2---sn-5hne6nsk.googlevideo.com/xpc/EgVo2aDSNQ%3D%3D/playlist_duration/30/manifest_duration/30/spc/NO7bAWTAnkB0KolyDBKG05jHWZxIDHApAdQ0Lt6UlnlR0woYTRaZ_sLAu3Qpf10/vprv/1/playlist_type/DVR/mh/uo/mm/44/mn/sn-5hne6nsk/ms/lva/mv/m/mvi/2/pl/17/dover/11/pacing/0/keepalive/yes/mt/1720579474/sparams/expire,ei,ip,id,itag,source,requiressl,ratebypass,live,sgoap,sgovp,rqh,hdlc,xpc,playlist_duration,manifest_duration,spc,vprv,playlist_type/sig/AJfQdSswRgIhAIvMhXhjW5xFvrjp6a7-mKmxMGw5T7e_aIg1aHILdpBFAiEAiTo2iruzUMp-jNr2U-B0emz77KA7L13SI9akSWkV5vw%3D/lsparams/hls_chunk_host,mh,mm,mn,ms,mv,mvi,pl/lsig/AHlkHjAwRQIhAPFThyfwo4fM1yi_9thjgz7aG7sW3oPCmcKN45X3g7m2AiA_mGUPpWAk__L5D4UdaxxjkNaQbFNT__A9_VcPy9Zagw%3D%3D/playlist/index.m3u8\"\n"
          ]
        },
        {
          "output_type": "stream",
          "name": "stdout",
          "text": [
            "[download] Destination: Hauraki Gulf Weather live stream (HaurakiGulfWeather.com) 2024-07-10 02_47 [6VHnY6ixjLc].mp4\n"
          ]
        },
        {
          "output_type": "stream",
          "name": "stderr",
          "text": [
            "[debug] ffmpeg command line: ffmpeg -y -loglevel verbose -headers 'User-Agent: Mozilla/5.0 (Windows NT 10.0; Win64; x64) AppleWebKit/537.36 (KHTML, like Gecko) Chrome/90.0.4430.24 Safari/537.36\r\n",
            "Accept: text/html,application/xhtml+xml,application/xml;q=0.9,*/*;q=0.8\r\n",
            "Accept-Language: en-us,en;q=0.5\r\n",
            "Sec-Fetch-Mode: navigate\r\n",
            "' -i https://manifest.googlevideo.com/api/manifest/hls_playlist/expire/1720601232/ei/MPaNZvbcHIuDi9oP9pKk0AI/ip/34.34.25.49/id/6VHnY6ixjLc.1/itag/96/source/yt_live_broadcast/requiressl/yes/ratebypass/yes/live/1/sgoap/gir%3Dyes%3Bitag%3D140/sgovp/gir%3Dyes%3Bitag%3D137/rqh/1/hdlc/1/hls_chunk_host/rr2---sn-5hne6nsk.googlevideo.com/xpc/EgVo2aDSNQ%3D%3D/playlist_duration/30/manifest_duration/30/spc/NO7bAWTAnkB0KolyDBKG05jHWZxIDHApAdQ0Lt6UlnlR0woYTRaZ_sLAu3Qpf10/vprv/1/playlist_type/DVR/mh/uo/mm/44/mn/sn-5hne6nsk/ms/lva/mv/m/mvi/2/pl/17/dover/11/pacing/0/keepalive/yes/mt/1720579474/sparams/expire,ei,ip,id,itag,source,requiressl,ratebypass,live,sgoap,sgovp,rqh,hdlc,xpc,playlist_duration,manifest_duration,spc,vprv,playlist_type/sig/AJfQdSswRgIhAIvMhXhjW5xFvrjp6a7-mKmxMGw5T7e_aIg1aHILdpBFAiEAiTo2iruzUMp-jNr2U-B0emz77KA7L13SI9akSWkV5vw%3D/lsparams/hls_chunk_host,mh,mm,mn,ms,mv,mvi,pl/lsig/AHlkHjAwRQIhAPFThyfwo4fM1yi_9thjgz7aG7sW3oPCmcKN45X3g7m2AiA_mGUPpWAk__L5D4UdaxxjkNaQbFNT__A9_VcPy9Zagw%3D%3D/playlist/index.m3u8 -c copy -f mpegts 'file:Hauraki Gulf Weather live stream (HaurakiGulfWeather.com) 2024-07-10 02_47 [6VHnY6ixjLc].mp4.part'\n"
          ]
        }
      ]
    }
  ],
  "metadata": {
    "colab": {
      "provenance": [],
      "include_colab_link": true
    },
    "kernelspec": {
      "display_name": "Python 3",
      "name": "python3"
    }
  },
  "nbformat": 4,
  "nbformat_minor": 0
}