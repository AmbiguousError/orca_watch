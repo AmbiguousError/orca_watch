{
  "cells": [
    {
      "cell_type": "markdown",
      "metadata": {
        "id": "view-in-github",
        "colab_type": "text"
      },
      "source": [
        "<a href=\"https://colab.research.google.com/github/AmbiguousError/orca_watch/blob/main/devonport_orca_detect.ipynb\" target=\"_parent\"><img src=\"https://colab.research.google.com/assets/colab-badge.svg\" alt=\"Open In Colab\"/></a>"
      ]
    },
    {
      "cell_type": "markdown",
      "source": [
        "Install libraries required"
      ],
      "metadata": {
        "id": "-qm6nsTJhqM8"
      }
    },
    {
      "cell_type": "code",
      "source": [
        "!pip install yt-dlp ultralytics opencv-python matplotlib\n",
        "\n"
      ],
      "metadata": {
        "id": "fBBkix8xWx3d"
      },
      "execution_count": null,
      "outputs": []
    },
    {
      "cell_type": "markdown",
      "source": [
        "YOLOv8 Model: Download a pre-trained YOLOv8 object detection model.\n",
        "Deets here: https://github.com/ultralytics/ultralytics\n",
        "\n"
      ],
      "metadata": {
        "id": "QO2hJmoqhxgs"
      }
    },
    {
      "cell_type": "code",
      "source": [
        "! yolo task=detect mode=predict model=yolov8n.pt\n"
      ],
      "metadata": {
        "id": "PpiO7M2sW6Ba"
      },
      "execution_count": null,
      "outputs": []
    },
    {
      "cell_type": "markdown",
      "source": [
        "check feed formats available"
      ],
      "metadata": {
        "id": "3NnPOwtpiK_g"
      }
    },
    {
      "cell_type": "code",
      "source": [
        "!yt-dlp -F https://www.youtube.com/watch?v=6VHnY6ixjLc\n"
      ],
      "metadata": {
        "id": "R8kOSLX0csmK"
      },
      "execution_count": null,
      "outputs": []
    },
    {
      "cell_type": "markdown",
      "source": [
        "run script, will apparently show pics of orca in cell when viewed ... should setup test"
      ],
      "metadata": {
        "id": "UK2WeRmIiQVd"
      }
    },
    {
      "cell_type": "code",
      "source": [
        "import cv2\n",
        "import yt_dlp\n",
        "import subprocess\n",
        "import os\n",
        "from ultralytics import YOLO\n",
        "import matplotlib.pyplot as plt\n",
        "\n",
        "def detect_orcas(video_filename, model_path=\"yolov8n.pt\"):\n",
        "    \"\"\"Detects orcas in a video file.\"\"\"\n",
        "    model = YOLO(model_path)\n",
        "    cap = cv2.VideoCapture(video_filename)\n",
        "    while cap.isOpened():\n",
        "        success, frame = cap.read()\n",
        "        if success:\n",
        "            results = model(frame)\n",
        "            for result in results:\n",
        "                for box in result.boxes:\n",
        "                    if result.names[box.cls[0]] == \"orca\":\n",
        "                        x1, y1, x2, y2 = map(int, box.xyxy[0])\n",
        "                        cv2.rectangle(frame, (x1, y1), (x2, y2), (0, 255, 0), 2)\n",
        "                        label = f\"{result.names[box.cls[0]]} {box.conf[0]:.2f}\"\n",
        "                        cv2.putText(frame, label, (x1, y1 - 10), cv2.FONT_HERSHEY_SIMPLEX, 0.9, (0, 255, 0), 2)\n",
        "\n",
        "            # Display the frame using Matplotlib\n",
        "            plt.imshow(cv2.cvtColor(frame, cv2.COLOR_BGR2RGB))  # Convert to RGB for Matplotlib\n",
        "            plt.title(\"Orca Detection\")\n",
        "            plt.show()\n",
        "\n",
        "            if cv2.waitKey(1) & 0xFF == ord('q'):\n",
        "                break\n",
        "        else:\n",
        "            break\n",
        "    cap.release()\n",
        "    cv2.destroyAllWindows()\n",
        "\n",
        "def process_live_stream(live_stream_url, model_path=\"yolov8n.pt\"):\n",
        "    \"\"\"Processes a live stream in chunks.\"\"\"\n",
        "    temp_filename = \"temp.ts\"  # Change to .ts for MPEG-TS\n",
        "    ydl_opts = {\n",
        "        'format': 'bestvideo[ext=mp4]+bestaudio[ext=m4a]/best[ext=mp4]/best',\n",
        "        'verbose': True,\n",
        "        'noplaylist': True,\n",
        "        'merge_output_format': 'mp4'  # Merge audio and video into mp4 after download\n",
        "    }\n",
        "\n",
        "    with yt_dlp.YoutubeDL(ydl_opts) as ydl:\n",
        "        info = ydl.extract_info(live_stream_url)\n",
        "        video_filename = ydl.prepare_filename(info)\n",
        "\n",
        "        while True:\n",
        "            # Record a segment of the stream\n",
        "            ffmpeg_cmd = f\"ffmpeg -protocol_whitelist file,http,https,tcp,tls,crypto -i {video_filename} -c copy -bsf:a aac_adtstoasc -t 30 {temp_filename}\"\n",
        "            print(f\"Recording segment: {ffmpeg_cmd}\")\n",
        "\n",
        "            try:\n",
        "                subprocess.run(ffmpeg_cmd, shell=True, check=True)\n",
        "            except subprocess.CalledProcessError as e:\n",
        "                print(f\"FFmpeg error: {e.stderr}\")  # Print FFmpeg error\n",
        "                break\n",
        "\n",
        "            if os.path.exists(temp_filename):\n",
        "                print(f\"Processing segment: {temp_filename}\")\n",
        "                detect_orcas(temp_filename, model_path)\n",
        "                os.remove(temp_filename)  # Remove the temporary file\n",
        "            else:\n",
        "                print(\"Error: Temporary file not created.\")\n",
        "\n",
        "\n",
        "if __name__ == \"__main__\":\n",
        "    youtube_url = \"https://www.youtube.com/watch?v=6VHnY6ixjLc\"  # Replace with the actual live stream URL\n",
        "    process_live_stream(youtube_url)\n"
      ],
      "metadata": {
        "id": "9oGKO9XVfrtF"
      },
      "execution_count": null,
      "outputs": []
    }
  ],
  "metadata": {
    "colab": {
      "provenance": [],
      "include_colab_link": true
    },
    "kernelspec": {
      "display_name": "Python 3",
      "name": "python3"
    }
  },
  "nbformat": 4,
  "nbformat_minor": 0
}